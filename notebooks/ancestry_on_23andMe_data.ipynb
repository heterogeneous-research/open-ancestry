{
 "cells": [
  {
   "cell_type": "markdown",
   "metadata": {},
   "source": [
    "## What can we learn from publically available genetic data?\n",
    "\n",
    "Your DNA holds a wealth of information about your ancestry, susceptibility to diseases, and complex characteristics including height, weight, facial features, and behavior. Using publically available data from 23andMe, a direct-to-consumer genetics company, we will show how to determine the ancestry of an anonymous sample from 23andMe found online.\n",
    "\n",
    "Three things you will learn and be able to do by the end of this tutorial:\n",
    "1. How to understand and analyze genetic data from two different sources (23andMe and 1000 Genomes Project).\n",
    "2. The basics of principle component analysis, a tool for unsupervised clustering, dimensional reduction, and data exploration.\n",
    "3. How to predict ancestry from an anonymous genetic data set using principle component analysis.\n",
    "\n",
    "First, you can download a set of publically-available 23andMe data. This file is about 23Mb in size. We will use the python urllib package (link here) to download the file."
   ]
  },
  {
   "cell_type": "code",
   "execution_count": 1,
   "metadata": {
    "collapsed": false
   },
   "outputs": [
    {
     "data": {
      "text/plain": [
       "('dm_23andme_v3_110219.txt', <httplib.HTTPMessage instance at 0x106e34710>)"
      ]
     },
     "execution_count": 1,
     "metadata": {},
     "output_type": "execute_result"
    }
   ],
   "source": [
    "import urllib\n",
    "\n",
    "u = urllib.URLopener()\n",
    "u.retrieve(\"https://s3-eu-west-1.amazonaws.com/dm-23andme-v3/dm_23andme_v3_110219.txt\", \"dm_23andme_v3_110219.txt\")"
   ]
  },
  {
   "cell_type": "markdown",
   "metadata": {},
   "source": [
    "We will use the pandas library to load our data as a dataframe and take a look at the shape and content. The file has a number of header lines that start with '#'. We will skip these rows."
   ]
  },
  {
   "cell_type": "code",
   "execution_count": 2,
   "metadata": {
    "collapsed": false
   },
   "outputs": [
    {
     "name": "stderr",
     "output_type": "stream",
     "text": [
      "/Users/ps14/anaconda3/envs/py27/lib/python2.7/site-packages/IPython/core/interactiveshell.py:2718: DtypeWarning: Columns (1) have mixed types. Specify dtype option on import or set low_memory=False.\n",
      "  interactivity=interactivity, compiler=compiler, result=result)\n"
     ]
    }
   ],
   "source": [
    "import pandas as pd\n",
    "anon = pd.read_table(\"../data/dm_23andme_v3_110219.txt\", sep = \"\\t\", comment = \"#\", header = None)"
   ]
  },
  {
   "cell_type": "markdown",
   "metadata": {},
   "source": [
    "Check how many rows and columns the data has, and what the data looks like:"
   ]
  },
  {
   "cell_type": "code",
   "execution_count": 3,
   "metadata": {
    "collapsed": false
   },
   "outputs": [
    {
     "name": "stdout",
     "output_type": "stream",
     "text": [
      "The 23andMe datset has 966977 rows and 4 columns.\n",
      "            0  1       2   3\n",
      "0   rs4477212  1   72017  AA\n",
      "1   rs3094315  1  742429  AG\n",
      "2   rs3131972  1  742584  AG\n",
      "3  rs12124819  1  766409  --\n",
      "4  rs11240777  1  788822  AG\n"
     ]
    }
   ],
   "source": [
    "print(\"The 23andMe datset has {} rows and {} columns.\".format(anon.shape[0], anon.shape[1]))\n",
    "print(anon.head())\n"
   ]
  },
  {
   "cell_type": "markdown",
   "metadata": {},
   "source": [
    "For this tutorial, you only need to use about 1000 rows of this dataframe - you can take the first 1,000:"
   ]
  },
  {
   "cell_type": "code",
   "execution_count": 4,
   "metadata": {
    "collapsed": false
   },
   "outputs": [],
   "source": [
    "anon = anon.iloc[0:1000,:]"
   ]
  },
  {
   "cell_type": "markdown",
   "metadata": {},
   "source": [
    "## How is Genetic Data Organized\n",
    "\n",
    "The human genome is a sequence of over 3 billion letters (called 'bases') consisting of A's, T's, G's, and C's. This 3 billion letter sequence is split up into 23 different segments called chromosomes. The largest, chromosome 1, is nearly 250 million bases long. We have two copies of our genome (one from mom, one from dad), so we each have over 6 billion letters of DNA sequence.\n",
    "\n",
    "The schematic below shows a single chromosome and how the millions of base pairs are condensed and packaged into the chromosome.\n"
   ]
  },
  {
   "cell_type": "markdown",
   "metadata": {},
   "source": [
    "<img src=./0321_DNA_Macrostructure.jpg>"
   ]
  },
  {
   "cell_type": "markdown",
   "metadata": {},
   "source": [
    "In the dataframe you just printed above, the second and third columns correspond to the chromosome and position. The fourth column contains the two bases at that chromosome and position. The first column is called the rsid and it is an identifier used in databases for genetic variants.\n",
    "\n",
    "All of this column naming information is in the header of the file we loaded, but we skipped it with the comment = \"#\" line above.\n",
    "\n",
    "Let's rename the columns of the dataset accordingly:"
   ]
  },
  {
   "cell_type": "code",
   "execution_count": null,
   "metadata": {
    "collapsed": false
   },
   "outputs": [
    {
     "name": "stdout",
     "output_type": "stream",
     "text": [
      "         rsid chr     pos genotype\n",
      "0   rs4477212   1   72017       AA\n",
      "1   rs3094315   1  742429       AG\n",
      "2   rs3131972   1  742584       AG\n",
      "3  rs12124819   1  766409       --\n",
      "4  rs11240777   1  788822       AG\n"
     ]
    }
   ],
   "source": [
    "anon.columns = [\"rsid\", \"chr\", \"pos\", \"genotype\"]\n",
    "print(anon.head())\n"
   ]
  },
  {
   "cell_type": "markdown",
   "metadata": {},
   "source": [
    "## Working with Publically Available Genetic Data from Three Major Human Populations\n",
    "\n",
    "\n",
    "Next, we will download samples from three major groups of humans sequenced as part of the 1,000 genomes project to catalog human genetic variation across the globe. These three groups are CEU (Northern Europeans from Utah), YRI (Yoruba in Ibadan, Nigeria) and CHB/JPT (Han Chinese and Japanese in Tokyo).\n",
    "\n",
    "The first important lesson about dealing with genomic data is that it can get VERY big. The raw data generated in sequencing a single human genome covering the 6 billion or so sites is usually at least 30Gb. By reducing down to only a subset of sites that are known to vary within human populations (23andMe uses about 1 million sites), this can be reduced. The anonymous 23andMe data we are using is only 23Mb.\n",
    "\n",
    "We will use tabix, a popular tool for indexing and querying large genomic data sets in order extract the data from the sites we are interested in from the 1000 Genomes files. Tabix saves us tons of time and makes large files much more easily accessible - more info on tabix here: http://www.htslib.org/doc/tabix.html.\n",
    "\n",
    "We will download two files - one is the genetic data itself and one is an index generated by tabix that makes querying fast and low-memory. This file is compressed and about 1Gb (969Mb) in size, so depending on your internet connection it may take a few minutes to download. You don't need to unzip it - if you do decide to unzip it to check the file out, it is about 7Gb unzipped, so don't try to look at the whole thing at once!\n",
    "\n",
    "You will need to run the command 'pip install --user pytabix' to use tabix in python."
   ]
  },
  {
   "cell_type": "code",
   "execution_count": null,
   "metadata": {
    "collapsed": false
   },
   "outputs": [],
   "source": [
    "u = urllib.URLopener()\n",
    "u.retrieve(\"ftp://ftp.1000genomes.ebi.ac.uk/vol1/ftp/pilot_data/paper_data_sets/a_map_of_human_variation/low_coverage/snps/YRI.low_coverage.2010_09.genotypes.vcf.gz\", \"YRI.low_coverage.2010_09.genotypes.vcf.gz\")\n",
    "u.retrieve(\"ftp://ftp.1000genomes.ebi.ac.uk/vol1/ftp/pilot_data/paper_data_sets/a_map_of_human_variation/low_coverage/snps/YRI.low_coverage.2010_09.genotypes.vcf.gz.tbi\", \"YRI.low_coverage.2010_09.genotypes.vcf.gz.tbi\")"
   ]
  },
  {
   "cell_type": "code",
   "execution_count": null,
   "metadata": {
    "collapsed": false
   },
   "outputs": [],
   "source": [
    "import tabix\n",
    "\n",
    "YRI_file = \"../data/YRI.low_coverage.2010_09.genotypes.vcf.gz\"\n",
    "yri = tabix.open(YRI_file)\n"
   ]
  },
  {
   "cell_type": "markdown",
   "metadata": {},
   "source": [
    "Genetic coordinates are usually zero-based, meaning that the first base in a sequence will be 'between' position zero and position one. Below, we will check the YRI data set for the rs3094315 variant by querying sites on chromosome 1 betwen position 742428 and 742429 (this will be the 742429th base in the sequence). A simple graphic showing the difference between zero-based vs 1-based coordinates is below, taken from the following biostars post: https://www.biostars.org/p/84686/\n",
    "\n",
    "Please note, this tutorial has been updated for Python 3, so we use the `__next__()` method of tabix. If you are using Python 2.7 then use `next()` instead! Thanks to Matthew Wipperman from Memorial Sloan Kettering Cancer Center for discovering this and finding the fix!\n"
   ]
  },
  {
   "cell_type": "markdown",
   "metadata": {},
   "source": [
    "<img src=./basic_diagram.jpg>"
   ]
  },
  {
   "cell_type": "markdown",
   "metadata": {},
   "source": [
    "rs3094315 is the second variant in our 23andMe data set and it has also been sequenced in the YRI data set:"
   ]
  },
  {
   "cell_type": "code",
   "execution_count": null,
   "metadata": {
    "collapsed": false
   },
   "outputs": [],
   "source": [
    "rs3094315 = yri.query(\"1\", 742428, 742429)  # an iterator object\n",
    "print(rs3094315.__next__()"
   ]
  },
  {
   "cell_type": "markdown",
   "metadata": {},
   "source": [
    "How do we read the output above? As you may have noticed, it is quite a bit different that the way our 23andMe data is organized.\n",
    "\n",
    "The 1000 Genomes files are stored in VCF (variant call format) files, which is different from the format 23andMe provides, so we will need to do some data-wrangling to make the two work together. \n",
    "\n",
    "From left to right, the first five columns encode the chromosome, position, rsid, reference base (this is the letter that we expect to see most of the time), the alternate base (this is the letter that is the 'variant' which is present in some members of the population). More information on the information that is contained in a VCF can be found here: http://www.1000genomes.org/wiki/Analysis/vcf4.0/. This is one of the most common file formats in genetics and much of the additional data besides the genotypes themselves can be used to filter data to improve quality. To take a look at the VCF, you can make a copy of the bgzipped VCF you downloaded, unzip it, and use 'less' on the command line to take a look. The file is almost 7Gb once unzipped.\n"
   ]
  },
  {
   "cell_type": "markdown",
   "metadata": {},
   "source": [
    "\n",
    "The final column of the VCF and (the last entry of this list) shows the genotype of each of the 59 YRI samples included in this final. The last 59 entries in the list all follow a similar format for reporting the genotype that is colon separated. For now, we are only interested in the first piece of information which is the genotype (it will be 0|0, 1|0, 0|1, or 1|1).\n",
    "\n",
    "As you can see above, our anonymous sample's genotype at this site is AG which corresponds to a 1|0 in the format listed above. 0 is the reference (G) and 1 is the alt (A). A few of the YRI samples are 1|1 which means they are AA at this site, while the YRI samples that are 0|0 are GG at this site. Before we go much further, we want to convert our 23andMe data to more closely match the format of the population reference we just downloaded by adding a column showing the genotype in the 0 and 1 format used in the 1000 Genomes VCF file (this is more common than the format 23andMe uses)."
   ]
  },
  {
   "cell_type": "code",
   "execution_count": null,
   "metadata": {
    "collapsed": true
   },
   "outputs": [],
   "source": [
    "def convert_anon_genotype(chr, pos, genotype, vcf_tabix):\n",
    "    site = vcf_tabix.query(chr, pos - 1, pos)\n",
    "    try:\n",
    "        row = site.__next__() # this will throw an error (which is caught by 'except' on the next line) if the site we queried is not in the tabix file\n",
    "    except StopIteration:\n",
    "        return None # put None in the dataframe if we are missing this genotype in 1000 Genomes\n",
    "    ref = row[3]\n",
    "    alt = row[4]\n",
    "    if genotype == ref+ref:\n",
    "        return(\"0|0\")\n",
    "    elif (genotype == ref+alt) | (genotype == alt+ref):\n",
    "        return(\"0|1\")\n",
    "    elif genotype == alt+alt:\n",
    "        return(\"1|1\")\n",
    "    else: # missing genotype, or incorrect annotation, we assume ref/ref\n",
    "        return(\"0|0\")"
   ]
  },
  {
   "cell_type": "code",
   "execution_count": null,
   "metadata": {
    "collapsed": false
   },
   "outputs": [],
   "source": [
    "genotypes_1kg_format = []\n",
    "for chr, pos, genotype in zip(anon['chr'], anon['pos'], anon['genotype']):\n",
    "    genotypes_1kg_format.append(convert_anon_genotype(str(chr), pos, genotype, yri))\n",
    "\n",
    "anon['genotype_1kg_format'] = genotypes_1kg_format\n",
    "print(anon.head())\n",
    "print(anon.shape)"
   ]
  },
  {
   "cell_type": "markdown",
   "metadata": {},
   "source": [
    "## Making a Featurespace from our Genotypes\n",
    "\n",
    "We want to express the genetic data as a feature space with the first goal in mind of predicting ancestry. We will build a dataframe where our rows are the samples (people) and we treat the genotype at each chromosome and position as a separate feature. Since we restricted the anonymous 23andMe sample to the first thousand sites, our dataframe will have two columns describing the population and a name for each sample, plus another 1000 columns (one for each feature)."
   ]
  },
  {
   "cell_type": "code",
   "execution_count": null,
   "metadata": {
    "collapsed": false
   },
   "outputs": [],
   "source": [
    "# make a data frame with one row for each of the YRI samples\n",
    "yri_genotypes = pd.DataFrame({\"sample\": [\"YRI\" + str(i) for i in range(1, 60)], \"population\": \"YRI\"})\n",
    "print(yri_genotypes.head())"
   ]
  },
  {
   "cell_type": "markdown",
   "metadata": {},
   "source": [
    "To get the genotype from each person, we will write a function that uses pytabix:"
   ]
  },
  {
   "cell_type": "code",
   "execution_count": null,
   "metadata": {
    "collapsed": true
   },
   "outputs": [],
   "source": [
    "# extract genotype information for a set of sites\n",
    "def extract_genotype(chr, pos, vcf_tabix):\n",
    "    site = vcf_tabix.query(chr, pos - 1, pos)\n",
    "    try:\n",
    "        g = site.__next__()[9:]\n",
    "    except StopIteration:\n",
    "        return None # put None in the dataframe if we are missing this genotype in 1000 Genomes\n",
    "    g = [i.split(\":\")[0] for i in g]  # if present in 1000 genomes, get the genotypes\n",
    "    return(g)\n",
    "    \n",
    "    \n",
    "    "
   ]
  },
  {
   "cell_type": "code",
   "execution_count": null,
   "metadata": {
    "collapsed": false
   },
   "outputs": [],
   "source": [
    "for rsid, chr, pos in zip(anon['rsid'], anon['chr'], anon['pos']):\n",
    "    g = extract_genotype(str(chr), pos, yri)\n",
    "    yri_genotypes[rsid] = g"
   ]
  },
  {
   "cell_type": "code",
   "execution_count": null,
   "metadata": {
    "collapsed": false
   },
   "outputs": [],
   "source": [
    "print(\"The dataframe including all of the samples from the YRI population has {} samples and {} genotypes.\".format(yri_genotypes.shape[0], yri_genotypes.shape[1] - 2))"
   ]
  },
  {
   "cell_type": "markdown",
   "metadata": {},
   "source": [
    "All of the columns with 'None' are sites that were sequenced by 23andMe, but not present in our YRI data set. Later, we will discard all of the sites where we have missing data in any of our populations."
   ]
  },
  {
   "cell_type": "code",
   "execution_count": null,
   "metadata": {
    "collapsed": false
   },
   "outputs": [],
   "source": [
    "print(yri_genotypes.iloc[0:10, 0:7])"
   ]
  },
  {
   "cell_type": "markdown",
   "metadata": {},
   "source": [
    "Now, we will download data sets and make data frames for the CEU (European from Utah) and CHB/JPT (Han Chinese/Japanese). Again, curl or wget should be used from the command line to download these files and the tabix indexes:"
   ]
  },
  {
   "cell_type": "code",
   "execution_count": null,
   "metadata": {
    "collapsed": true
   },
   "outputs": [],
   "source": [
    "u = urllib.URLopener()\n",
    "u.retrieve(\"ftp://ftp.1000genomes.ebi.ac.uk/vol1/ftp/pilot_data/paper_data_sets/a_map_of_human_variation/low_coverage/snps/CEU.low_coverage.2010_09.genotypes.vcf.gz\", \"CEU.low_coverage.2010_09.genotypes.vcf.gz\")\n",
    "u.retrieve(\"ftp://ftp.1000genomes.ebi.ac.uk/vol1/ftp/pilot_data/paper_data_sets/a_map_of_human_variation/low_coverage/snps/CEU.low_coverage.2010_09.genotypes.vcf.gz.tbi\", \"CEU.low_coverage.2010_09.genotypes.vcf.gz.tbi\")\n",
    "u.retrieve(\"ftp://ftp.1000genomes.ebi.ac.uk/vol1/ftp/pilot_data/paper_data_sets/a_map_of_human_variation/low_coverage/snps/CHBJPT.low_coverage.2010_09.genotypes.vcf.gz\", \"CHBJPT.low_coverage.2010_09.genotypes.vcf.gz\")\n",
    "u.retrieve(\"ftp://ftp.1000genomes.ebi.ac.uk/vol1/ftp/pilot_data/paper_data_sets/a_map_of_human_variation/low_coverage/snps/CHBJPT.low_coverage.2010_09.genotypes.vcf.gz.tbi\", \"CHBJPT.low_coverage.2010_09.genotypes.vcf.gz.tbi\")\n"
   ]
  },
  {
   "cell_type": "code",
   "execution_count": null,
   "metadata": {
    "collapsed": false
   },
   "outputs": [],
   "source": [
    "# europeans from utah\n",
    "CEU_file = \"../data/CEU.low_coverage.2010_09.genotypes.vcf.gz\"\n",
    "ceu = tabix.open(CEU_file)\n",
    "\n",
    "number_ceu_samples = len(ceu.query(\"1\", 742428, 742429).__next__()[9:])\n",
    "\n",
    "ceu_genotypes = pd.DataFrame({\"sample\": [\"CEU\" + str(i) for i in range(1, number_ceu_samples + 1)], \"population\": \"CEU\"})\n",
    "\n",
    "# Han chinese and Japanese\n",
    "CHBJPT_file = \"../data/CHBJPT.low_coverage.2010_09.genotypes.vcf.gz\"\n",
    "chbjpt = tabix.open(CHBJPT_file)\n",
    "\n",
    "number_chbjpt_samples = len(chbjpt.query(\"1\", 742428, 742429).__next__()[9:])\n",
    "\n",
    "chbjpt_genotypes = pd.DataFrame({\"sample\": [\"CHBJPT\" + str(i) for i in range(1, number_chbjpt_samples + 1)], \"population\": \"CHBJPT\"})\n"
   ]
  },
  {
   "cell_type": "code",
   "execution_count": null,
   "metadata": {
    "collapsed": false
   },
   "outputs": [],
   "source": [
    "for rsid, chr, pos in zip(anon['rsid'], anon['chr'], anon['pos']):\n",
    "    yri_genotypes[rsid] =  extract_genotype(str(chr), pos, yri)\n",
    "    ceu_genotypes[rsid] =  extract_genotype(str(chr), pos, ceu)\n",
    "    chbjpt_genotypes[rsid] =  extract_genotype(str(chr), pos, chbjpt)"
   ]
  },
  {
   "cell_type": "markdown",
   "metadata": {},
   "source": [
    "At this point, we have three separate dataframes from our three populations of interest containing their genotype at 1000 different locations. Our goal is to see how well we can separate the samples into populations based only on their genetic information, ignoring the original population labels."
   ]
  },
  {
   "cell_type": "code",
   "execution_count": null,
   "metadata": {
    "collapsed": false
   },
   "outputs": [],
   "source": [
    "genotypes = yri_genotypes.copy()\n",
    "genotypes = genotypes.append(ceu_genotypes, ignore_index=True)\n",
    "genotypes = genotypes.append(chbjpt_genotypes, ignore_index=True)\n",
    "\n",
    "print(\"Now the genotypes data frame has {} samples and {} genotypes\".format(genotypes.shape[0], genotypes.shape[1]-2))"
   ]
  },
  {
   "cell_type": "markdown",
   "metadata": {},
   "source": [
    "## Unsupervised Clustering using Principal Component Analysis\n",
    "\n",
    "To try to separate our data into populations, we will use principal component analysis (PCA), an unsupervised method that is very useful for combining information from large feature spaces into a smaller set of features that capture a large proportion of the variance between samples.\n",
    "\n",
    "PCA takes a high dimensional feature space (in our case, 10 features) and creates a 'principal component' that captures the variance between samples using a linear combination of all of the features. Our data can be imagined as a cloud of points in high dimensional space. The first principal component is a line through this high dimensional space. The second principal component must be orthogonal (at a 90 degree angle) to the first principal component and is constructed to capture the second largest amount of variance.\n",
    "\n",
    "Another way of thinking about principal components is as a 'projection' or a 'shadow' of the high dimensional data into a low dimension space. The figure below shows an example of visualizing a four dimensional feature space in two dimensions.\n",
    "\n",
    "This figure comes from a scikit-learn tutorial using data from the very popular Iris dataset: http://scikit-learn.org/stable/auto_examples/decomposition/plot_pca_vs_lda.html"
   ]
  },
  {
   "cell_type": "markdown",
   "metadata": {
    "collapsed": false
   },
   "source": [
    "<img src=./plot_pca_vs_lda_001.png>"
   ]
  },
  {
   "cell_type": "markdown",
   "metadata": {},
   "source": [
    "Now, we will use PCA on our genetic data set to try to visualize the variance between our samples. We will use the scikit-learn library for PCA. Below, we convert the genotype values to continuous values. Samples that have two copies of the reference letter are given 0, one copy of reference and one copy of alternate is given 0.5, and two copies the alternate is given 1.0. Also, we will drop any variants that have 'None' in our population panel from 1000 Genomes because they will not be informative."
   ]
  },
  {
   "cell_type": "code",
   "execution_count": null,
   "metadata": {
    "collapsed": false
   },
   "outputs": [],
   "source": [
    "from sklearn.decomposition import PCA\n",
    "pca = PCA(n_components = 2)\n",
    "\n",
    "genotypes_only = genotypes.copy().iloc[:, 2:]  # we make a copy here, otherwise pandas will gripe at us!\n",
    "genotypes_only[genotypes_only == \"1|1\"] = 1\n",
    "genotypes_only[genotypes_only == \"0|1\"] = 0.5\n",
    "genotypes_only[genotypes_only == \"0/1\"] = 0.5\n",
    "genotypes_only[genotypes_only == \"1|0\"] = 0.5\n",
    "genotypes_only[genotypes_only == \"0|0\"] = 0.0\n",
    "\n",
    "# remove variants with None\n",
    "genotypes_only = genotypes_only.dropna(axis=1)\n"
   ]
  },
  {
   "cell_type": "code",
   "execution_count": null,
   "metadata": {
    "collapsed": false
   },
   "outputs": [],
   "source": [
    "import matplotlib.pyplot as plt\n",
    "%matplotlib inline"
   ]
  },
  {
   "cell_type": "code",
   "execution_count": null,
   "metadata": {
    "collapsed": false
   },
   "outputs": [],
   "source": [
    "pca.fit(genotypes_only)\n",
    "pc = pca.transform(genotypes_only)\n",
    "\n",
    "plt.figure(figsize=(10,6))\n",
    "plt.scatter(pc[:, 0], pc[:, 1])\n",
    "plt.title('PCA of 1000 23andMe SNPs')\n",
    "plt.xlabel('PC1')\n",
    "plt.ylabel('PC2')\n",
    "plt.show()\n"
   ]
  },
  {
   "cell_type": "markdown",
   "metadata": {},
   "source": [
    "Using less than one thousand sites from our 23andMe data set (remember, this is only a fraction of the nearly 1 million sites total in the 23andMe data set), we see that our data is separated very cleanly into three clusters. If we add our population labels back on, we can see that these clusters represent the three populations we began with. One of the most powerful parts of PCA for this particular analysis is that we don't need to specify the number of clusters we are looking for to begin with."
   ]
  },
  {
   "cell_type": "code",
   "execution_count": null,
   "metadata": {
    "collapsed": false
   },
   "outputs": [],
   "source": [
    "import numpy as np\n",
    "\n",
    "plt.figure(figsize=(10,6))\n",
    "\n",
    "for c, pop in zip(\"rby\", [\"YRI\", \"CEU\", \"CHBJPT\"]):\n",
    "    plt.scatter(pc[np.where(genotypes['population'] == pop), 0], pc[np.where(genotypes['population'] == pop), 1], c = c, label = pop)\n",
    "plt.title('PCA of 1000 23andMe SNPs')\n",
    "plt.xlabel('PC1')\n",
    "plt.ylabel('PC2')\n",
    "plt.legend(loc = 'upper left')\n",
    "plt.show()"
   ]
  },
  {
   "cell_type": "markdown",
   "metadata": {},
   "source": [
    "One of the most important things analysis also tells us is that if we are interested in learning ANYTHING from our genetic data besides where people's ancestors come from, we need to control for population structure (i.e. use population/ancestry as a covariate). When we are trying to understand the role that genetics plays in susceptibility to common diseases (e.g. diabetes, obesity, heart disease, hereditary cancers), we have to ensure that our cases (people with the disease) and controls (people without the disease) don't differ greatly in their ancestry.\n",
    "\n",
    "Another interesting observation from the PCA plot is that the Yoruba cluster (red) is separated from the Chinese/Japanese and European cluster in the first principal component. This is a reflection of the origin of modern humans in Africa and the subsequent migration out of Africa and into Europe/Asia. The second principal component then reflects the later migrations resulting in genetic differences betweeen the Chinese/Japanese cluster and the European cluster."
   ]
  },
  {
   "cell_type": "markdown",
   "metadata": {},
   "source": [
    "Where does our anonymous 23andMe sample fall in this map? The 23andMe data format is different from the VCF, so we will write a quick function to check the VCF (using tabix) to map the 23andMe genotypes, which are reported as letters, to the 0|0, 0|1, and 1|1 that we are used to by now."
   ]
  },
  {
   "cell_type": "code",
   "execution_count": null,
   "metadata": {
    "collapsed": false
   },
   "outputs": [],
   "source": [
    "# keep only the genotypes used in our PCA above\n",
    "anon = anon.loc[anon['rsid'].isin(genotypes_only.columns.values), :]  # only keep the 23andMe data where we have no missing data in 1000 genomes\n",
    "\n",
    "anon_genotypes = anon.copy()[\"genotype_1kg_format\"]\n",
    "\n",
    "anon_genotypes[anon_genotypes == \"1|1\"] = 1\n",
    "anon_genotypes[anon_genotypes == \"0|1\"] = 0.5\n",
    "anon_genotypes[anon_genotypes == \"1|0\"] = 0.5\n",
    "anon_genotypes[anon_genotypes == \"0|0\"] = 0.0\n",
    "#anon_genotypes[anon_genotypes == None] = 0.0\n",
    "anon_genotypes = anon_genotypes.reshape(1,-1) # reshape, otherwise sci-kit learn will throw a deprecation warning\n",
    "\n",
    "# assume any missing data in our 23andme sample is ref/ref\n",
    "#anon_genotypes[anon_genotypes is None] = \"0|0\"\n",
    "\n",
    "anon_pca = pca.transform(anon_genotypes)  # pca was fit on the 1000 genomes data and we use it to transform the anonymous genotypes"
   ]
  },
  {
   "cell_type": "markdown",
   "metadata": {},
   "source": [
    "In the first line above, we discard any 23andMe sites that were not also part of the 1000 genomes site as we have to have the same underlying data between the two sets (anonymous 23andMe and 1000 genomes) in order to compute the value of the anonymous sample in principle component space. Furthermore, adding additional sites that were"
   ]
  },
  {
   "cell_type": "code",
   "execution_count": null,
   "metadata": {
    "collapsed": false
   },
   "outputs": [],
   "source": [
    "print(anon.head())"
   ]
  },
  {
   "cell_type": "code",
   "execution_count": null,
   "metadata": {
    "collapsed": false
   },
   "outputs": [],
   "source": [
    "plt.figure(figsize=(10,6))\n",
    "\n",
    "for c, pop in zip(\"rgb\", [\"YRI\", \"CEU\", \"CHBJPT\"]):\n",
    "    plt.scatter(pc[np.where(genotypes['population'] == pop), 0], pc[np.where(genotypes['population'] == pop), 1], c = c, label = pop)\n",
    "\n",
    "# take the code above and add in the anonymous sample\n",
    "\n",
    "plt.scatter(anon_pca[0,0], anon_pca[0,1], c = \"yellow\", label = \"Anonymous 23andMe Sample\", marker = (5,1,0), s = 200)\n",
    "\n",
    "plt.title('PCA of 1000 23andMe SNPs')\n",
    "plt.xlabel('PC1')\n",
    "plt.ylabel('PC2')\n",
    "plt.legend(loc = 'upper left')\n",
    "plt.show()"
   ]
  },
  {
   "cell_type": "markdown",
   "metadata": {},
   "source": [
    "As we can see in the plot above, our anonymous sample (the yellow star) is squarely in the European cluster. In practice, a population reference panel has far more sub-populations than the three used here. This tutorial shows how to do a simple ancestry analysis with a few snippets of python, but we could take it a step further and predict ancestry using a more sophisticated model. \n",
    "\n",
    "The final release of the 1000 Genomes data set has data from 26 different populations (http://www.1000genomes.org/category/population/). In this case, the genomic data from 1000 Genomes serves as the training data and you can build a classifier to predict proportional ancestry (e.g. 1/2 Irish, 1/2 Han Chinese) using a Gaussian Mixture Model or K-Nearest-Neighbors for instance.\n",
    "\n",
    "Beyond ancestry, genomic data can be used to predict disease risk, side effects to pharmaceuticals, and even to construct a model of your face (https://www.newscientist.com/article/mg22129613-600-genetic-mugshot-recreates-faces-from-nothing-but-dna/). \n",
    "\n",
    "Check back here for more free tutorials on analyzing genetic data using Python, or sign up for one of our Data Science courses!"
   ]
  },
  {
   "cell_type": "markdown",
   "metadata": {},
   "source": [
    "Written by: Patrick Short, a PhD Student in Mathematical Genomics and Medicine at the University of Cambridge and the Wellcome Trust Sanger Institute. Before his PhD, Patrick studied Applied Mathematics and Quantitative Biology at the University of North Carolina, Chapel Hill."
   ]
  },
  {
   "cell_type": "code",
   "execution_count": null,
   "metadata": {
    "collapsed": true
   },
   "outputs": [],
   "source": []
  }
 ],
 "metadata": {
  "kernelspec": {
   "display_name": "Python 2",
   "language": "python",
   "name": "python2"
  },
  "language_info": {
   "codemirror_mode": {
    "name": "ipython",
    "version": 2
   },
   "file_extension": ".py",
   "mimetype": "text/x-python",
   "name": "python",
   "nbconvert_exporter": "python",
   "pygments_lexer": "ipython2",
   "version": "2.7.13"
  }
 },
 "nbformat": 4,
 "nbformat_minor": 0
}
